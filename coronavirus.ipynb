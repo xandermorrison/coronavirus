{
 "cells": [
  {
   "cell_type": "code",
   "execution_count": 1,
   "metadata": {},
   "outputs": [],
   "source": [
    "import pandas as pd\n",
    "import numpy as np\n",
    "import requests\n",
    "import datetime\n",
    "import re\n",
    "from bs4 import BeautifulSoup"
   ]
  },
  {
   "cell_type": "code",
   "execution_count": 2,
   "metadata": {},
   "outputs": [],
   "source": [
    "url = \"https://en.wikipedia.org/wiki/Template:2019%E2%80%9320_coronavirus_outbreak_data/United_States_medical_cases_chart\"\n",
    "\n",
    "page = requests.get(url)\n",
    "soup = BeautifulSoup(page.content, \"html.parser\")"
   ]
  },
  {
   "cell_type": "code",
   "execution_count": 3,
   "metadata": {},
   "outputs": [],
   "source": [
    "columns = [\"date\", \"deaths\", \"recoveries\", \"actives\", \"#cases\", \"#deaths\"]"
   ]
  },
  {
   "cell_type": "code",
   "execution_count": 4,
   "metadata": {},
   "outputs": [],
   "source": [
    "rows = []\n",
    "\n",
    "paren_pattern = re.compile(r\"\\(.*\\)\")\n",
    "comma_pattern = re.compile(r\",\")\n",
    "\n",
    "# Start horrendous spaghetti code for getting data from Wikipedia\n",
    "# td with class 'bb-lr' has deaths (background-color: #A50026), recoveries (SkyBlue), and actives (Tomato) in divs\n",
    "\n",
    "for i, trow in enumerate(soup.find_all(\"tr\", **{\"class\": \"mw-collapsed\", \"class\": \"mw-collapsed\"})):\n",
    "    \n",
    "    # insure all dates are represented\n",
    "    \n",
    "    date_field = trow.find_all(\"td\")[0]\n",
    "    \n",
    "    if date_field.text == \"⋮\":\n",
    "        continue\n",
    "        \n",
    "    row_date = datetime.datetime.strptime(date_field.text, \"%Y-%m-%d\")\n",
    "    \n",
    "    if i == 0:\n",
    "        date = row_date\n",
    "    else:\n",
    "        date += datetime.timedelta(days=1)\n",
    "  \n",
    "    while date < row_date:\n",
    "        temp_row = [date, np.nan, np.nan, np.nan, np.nan, np.nan]\n",
    "        rows.append(dict(zip(columns, temp_row)))\n",
    "        date += datetime.timedelta(days=1)\n",
    "    \n",
    "    # end insure all dates\n",
    "    \n",
    "    # pull out data\n",
    "        \n",
    "    row = {}\n",
    "    row_data = []\n",
    "    \n",
    "    for tag in trow.find_all(\"td\"):\n",
    "        if \"bb-lr\" in tag[\"class\"]:\n",
    "            # get histogram data\n",
    "            for div in tag.find_all(\"div\"):\n",
    "                if \"#A50026\" in div[\"style\"]:\n",
    "                    row[columns[1]] = div[\"title\"]\n",
    "                elif \"SkyBlue\" in div[\"style\"]:\n",
    "                    row[columns[2]] = div[\"title\"]\n",
    "                elif \"Tomato\" in div[\"style\"]:\n",
    "                    row[columns[3]] = div[\"title\"]\n",
    "        else:\n",
    "            # or add data in order of processing\n",
    "            row_data.append(tag.text)\n",
    "            \n",
    "    # match ordered data with column names and fuse together dicts\n",
    "    row = {**dict(zip(columns[0:1] + columns[-2:], row_data)), **row}\n",
    "    # replace date string with datetime object\n",
    "    row[columns[0]] = row_date\n",
    "    \n",
    "    # convert strings to integers and replace any not found data\n",
    "    for column in columns:\n",
    "        if \"date\" in column:\n",
    "            continue\n",
    "            \n",
    "        if column not in row.keys() or row[column].strip() == \"\":\n",
    "            row[column] = 0\n",
    "            \n",
    "        if type(row[column]) is str:\n",
    "            row[column] = paren_pattern.sub(\"\", row[column])\n",
    "            row[column] = comma_pattern.sub(\"\", row[column])\n",
    "            row[column] = row[column].strip()\n",
    "            row[column] = int(row[column])\n",
    "\n",
    "    rows.append(row)\n",
    "    \n",
    "    # end pull out data\n",
    "    \n",
    "    date = row_date"
   ]
  },
  {
   "cell_type": "code",
   "execution_count": 5,
   "metadata": {},
   "outputs": [],
   "source": [
    "df = pd.DataFrame(rows)"
   ]
  },
  {
   "cell_type": "code",
   "execution_count": 6,
   "metadata": {},
   "outputs": [],
   "source": [
    "# forward fill data from previous days to days with no update\n",
    "df = df.fillna(method=\"ffill\")"
   ]
  },
  {
   "cell_type": "code",
   "execution_count": 7,
   "metadata": {},
   "outputs": [
    {
     "data": {
      "text/plain": [
       "date          datetime64[ns]\n",
       "#cases               float64\n",
       "#deaths              float64\n",
       "deaths               float64\n",
       "recoveries           float64\n",
       "actives              float64\n",
       "dtype: object"
      ]
     },
     "execution_count": 7,
     "metadata": {},
     "output_type": "execute_result"
    }
   ],
   "source": [
    "df.dtypes"
   ]
  },
  {
   "cell_type": "code",
   "execution_count": null,
   "metadata": {},
   "outputs": [],
   "source": []
  }
 ],
 "metadata": {
  "kernelspec": {
   "display_name": "Python 3",
   "language": "python",
   "name": "python3"
  },
  "language_info": {
   "codemirror_mode": {
    "name": "ipython",
    "version": 3
   },
   "file_extension": ".py",
   "mimetype": "text/x-python",
   "name": "python",
   "nbconvert_exporter": "python",
   "pygments_lexer": "ipython3",
   "version": "3.7.3"
  }
 },
 "nbformat": 4,
 "nbformat_minor": 4
}
